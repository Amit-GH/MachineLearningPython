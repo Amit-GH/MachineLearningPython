{
 "cells": [
  {
   "cell_type": "code",
   "execution_count": 1,
   "metadata": {
    "collapsed": false,
    "deletable": true,
    "editable": true
   },
   "outputs": [],
   "source": [
    "import numpy as np\n",
    "import scipy\n",
    "import pandas as pd\n",
    "import matplotlib.pyplot as plt"
   ]
  },
  {
   "cell_type": "code",
   "execution_count": 2,
   "metadata": {
    "collapsed": false,
    "deletable": true,
    "editable": true
   },
   "outputs": [],
   "source": [
    "class Perceptron(object):\n",
    "    \"\"\"Perceptron classifier.\n",
    "    Parameters\n",
    "    ------------\n",
    "    eta : float\n",
    "        Learning rate (between 0.0 and 1.0)\n",
    "    n_iter : int\n",
    "        Passes over the training dataset.\n",
    "    \n",
    "    Attributes\n",
    "    -----------\n",
    "    w_ : 1d-array\n",
    "        Weights after fitting.\n",
    "    errors_ : list\n",
    "        Number of misclassifications in every epoch.\n",
    "    \"\"\"\n",
    "    def __init__(self, eta=0.01, n_iter=10):\n",
    "        self.eta = eta\n",
    "        self.n_iter = n_iter\n",
    "    \n",
    "    def fit(self, X, y):\n",
    "        \"\"\"Fit training data.\n",
    "        \n",
    "        Parameters\n",
    "        ----------\n",
    "        X : {array-like}, shape = [n_samples, n_features]\n",
    "            Training vectors, where n_samples\n",
    "            is the number of samples and\n",
    "            n_features is the number of features.\n",
    "        y : array-like, shape = [n_samples]\n",
    "            Target values.\n",
    "        \n",
    "        Returns\n",
    "        -------\n",
    "        self : object\n",
    "        \"\"\"\n",
    "        assert(X.shape[0] == y.shape[0])\n",
    "        self.w_ = np.zeros(1 + X.shape[1]) # 1 + 'no_of_features per example'\n",
    "        self.errors_ = []\n",
    "        for i in range(self.n_iter):\n",
    "            error_count = 0\n",
    "            for xi, target in zip(X, y):\n",
    "                prediction = self.predict(xi)\n",
    "                if prediction != target:\n",
    "                    error_count += 1\n",
    "                \n",
    "                # update self.w_ with every example\n",
    "                update = self.eta * (target - prediction)\n",
    "                self.w_[0] +=  update * 1\n",
    "                self.w_[1:] += update * xi\n",
    "            self.errors_.append(error_count)\n",
    "        return self\n",
    "    \n",
    "    def predict(self, X):\n",
    "        \"\"\"predicts the output for a given input example or example set\n",
    "            X : {array-like}, shape = [n_features] or [n_samples, n_features]\n",
    "                one input or, set of inputs (i.e., complete dataset)\n",
    "        \"\"\"\n",
    "        z = self.w_[0] + np.dot(X, self.w_[1:])\n",
    "        return np.where(z >= 0, 1, -1)\n",
    "    "
   ]
  },
  {
   "cell_type": "code",
   "execution_count": 3,
   "metadata": {
    "collapsed": false,
    "deletable": true,
    "editable": true
   },
   "outputs": [
    {
     "name": "stdout",
     "output_type": "stream",
     "text": [
      "[3, 1, 2, 2, 0, 0, 0, 0, 0, 0, 0, 0, 0, 0, 0]\n"
     ]
    }
   ],
   "source": [
    "'''\n",
    "Creating random dataset and testing the synctactical accuracy of the above peceptron model\n",
    "'''\n",
    "Xtest = np.array([[2,3,4], [1,2,3], [1,1,0], [2,3,-2]])\n",
    "ytest = np.array([-1, 1, 1, 1])\n",
    "perceptron = Perceptron(n_iter=15)\n",
    "perceptron = perceptron.fit(Xtest, ytest)\n",
    "print (perceptron.errors_)"
   ]
  },
  {
   "cell_type": "code",
   "execution_count": 4,
   "metadata": {
    "collapsed": false,
    "deletable": true,
    "editable": true
   },
   "outputs": [
    {
     "name": "stdout",
     "output_type": "stream",
     "text": [
      "-1\n",
      "1\n",
      "-1\n"
     ]
    },
    {
     "data": {
      "text/plain": [
       "array([-1,  1, -1])"
      ]
     },
     "execution_count": 4,
     "metadata": {},
     "output_type": "execute_result"
    }
   ],
   "source": [
    "'''\n",
    "Using some test data to predict the output using above trained perceptron\n",
    "'''\n",
    "Test = np.array([[2,2,4], [1,0,3], [5,1,0]])\n",
    "for t in Test:\n",
    "    print (perceptron.predict(t))\n",
    "perceptron.predict(Test)"
   ]
  },
  {
   "cell_type": "code",
   "execution_count": 5,
   "metadata": {
    "collapsed": false,
    "deletable": true,
    "editable": true
   },
   "outputs": [
    {
     "data": {
      "text/html": [
       "<div>\n",
       "<table border=\"1\" class=\"dataframe\">\n",
       "  <thead>\n",
       "    <tr style=\"text-align: right;\">\n",
       "      <th></th>\n",
       "      <th>0</th>\n",
       "      <th>1</th>\n",
       "      <th>2</th>\n",
       "      <th>3</th>\n",
       "      <th>4</th>\n",
       "    </tr>\n",
       "  </thead>\n",
       "  <tbody>\n",
       "    <tr>\n",
       "      <th>145</th>\n",
       "      <td>6.7</td>\n",
       "      <td>3.0</td>\n",
       "      <td>5.2</td>\n",
       "      <td>2.3</td>\n",
       "      <td>Iris-virginica</td>\n",
       "    </tr>\n",
       "    <tr>\n",
       "      <th>146</th>\n",
       "      <td>6.3</td>\n",
       "      <td>2.5</td>\n",
       "      <td>5.0</td>\n",
       "      <td>1.9</td>\n",
       "      <td>Iris-virginica</td>\n",
       "    </tr>\n",
       "    <tr>\n",
       "      <th>147</th>\n",
       "      <td>6.5</td>\n",
       "      <td>3.0</td>\n",
       "      <td>5.2</td>\n",
       "      <td>2.0</td>\n",
       "      <td>Iris-virginica</td>\n",
       "    </tr>\n",
       "    <tr>\n",
       "      <th>148</th>\n",
       "      <td>6.2</td>\n",
       "      <td>3.4</td>\n",
       "      <td>5.4</td>\n",
       "      <td>2.3</td>\n",
       "      <td>Iris-virginica</td>\n",
       "    </tr>\n",
       "    <tr>\n",
       "      <th>149</th>\n",
       "      <td>5.9</td>\n",
       "      <td>3.0</td>\n",
       "      <td>5.1</td>\n",
       "      <td>1.8</td>\n",
       "      <td>Iris-virginica</td>\n",
       "    </tr>\n",
       "  </tbody>\n",
       "</table>\n",
       "</div>"
      ],
      "text/plain": [
       "       0    1    2    3               4\n",
       "145  6.7  3.0  5.2  2.3  Iris-virginica\n",
       "146  6.3  2.5  5.0  1.9  Iris-virginica\n",
       "147  6.5  3.0  5.2  2.0  Iris-virginica\n",
       "148  6.2  3.4  5.4  2.3  Iris-virginica\n",
       "149  5.9  3.0  5.1  1.8  Iris-virginica"
      ]
     },
     "execution_count": 5,
     "metadata": {},
     "output_type": "execute_result"
    }
   ],
   "source": [
    "df = pd.read_csv('flower_dataset.csv', header=None)\n",
    "df.tail()"
   ]
  },
  {
   "cell_type": "code",
   "execution_count": 6,
   "metadata": {
    "collapsed": false,
    "deletable": true,
    "editable": true
   },
   "outputs": [
    {
     "data": {
      "image/png": "[encoded data removed]",
      "text/plain": [
       "<matplotlib.figure.Figure at 0x107427470>"
      ]
     },
     "metadata": {},
     "output_type": "display_data"
    }
   ],
   "source": [
    "'''\n",
    "Extract flower data from csv file and save in X and y matrices\n",
    "'''\n",
    "y = df.iloc[0:100, 4].values\n",
    "y = np.where(y == 'Iris-setosa', -1, 1) # Iris-setosa is represented as -1, other as 1\n",
    "X = df.iloc[0:100, [0, 2]].values # xi has first and third columns\n",
    "\n",
    "'''\n",
    "Visualize the data\n",
    "'''\n",
    "plt.scatter(X[:50, 0], X[:50, 1], color='red', marker='o', label='setosa')\n",
    "plt.scatter(X[50:100, 0], X[50:100, 1], color='blue', marker='x', label='versicolor')\n",
    "plt.xlabel('petal length')\n",
    "plt.ylabel('sepal length')\n",
    "plt.legend(loc='upper left')\n",
    "plt.show()"
   ]
  },
  {
   "cell_type": "code",
   "execution_count": 7,
   "metadata": {
    "collapsed": false,
    "deletable": true,
    "editable": true
   },
   "outputs": [
    {
     "data": {
      "image/png": "[encoded data removed]",
      "text/plain": [
       "<matplotlib.figure.Figure at 0x1074aab70>"
      ]
     },
     "metadata": {},
     "output_type": "display_data"
    }
   ],
   "source": [
    "'''\n",
    "Train perceptron for the flower dataset and visualise training error\n",
    "'''\n",
    "ptron = Perceptron(eta=0.2, n_iter=20)\n",
    "ptron.fit(X, y)\n",
    "plt.plot(range(1, len(ptron.errors_) + 1), ptron.errors_, marker='o')\n",
    "plt.xlabel('epoch number')\n",
    "plt.ylabel('number of misclassifications')\n",
    "plt.show()"
   ]
  },
  {
   "cell_type": "code",
   "execution_count": 8,
   "metadata": {
    "collapsed": false,
    "deletable": true,
    "editable": true
   },
   "outputs": [],
   "source": [
    "'''\n",
    "Plot decision boundary for 2D datasets\n",
    "'''\n",
    "from matplotlib.colors import ListedColormap\n",
    "def plot_decision_regions(X, y, classifier, resolution=0.02):\n",
    "    assert(X.shape[1] == 2)\n",
    "    assert(X.shape[0] == y.shape[0])\n",
    "    #assert(type(classifier) == Perceptron)\n",
    "    \n",
    "    # setup marker generator and color map\n",
    "    markers = ('s', 'x', 'o', '^', 'v')\n",
    "    colors = ('red', 'blue', 'lightgreen', 'gray', 'cyan')\n",
    "    cmap = ListedColormap(colors[:len(np.unique(y))])\n",
    "    \n",
    "    # plot the decision surface\n",
    "    x1_min, x1_max = X[:, 0].min() - 1, X[:, 0].max() + 1\n",
    "    x2_min, x2_max = X[:, 1].min() - 1, X[:, 1].max() + 1\n",
    "    xx1, xx2 = np.meshgrid(np.arange(x1_min, x1_max, resolution),\\\n",
    "                           np.arange(x2_min, x2_max, resolution))\n",
    "    Z = classifier.predict(np.array([xx1.ravel(), xx2.ravel()]).T)\n",
    "    Z = Z.reshape(xx1.shape)\n",
    "    plt.contourf(xx1, xx2, Z, alpha=0.4, cmap=cmap)\n",
    "    plt.xlim(xx1.min(), xx1.max())\n",
    "    plt.ylim(xx2.min(), xx2.max())\n",
    "    \n",
    "    # plot class samples\n",
    "    for idx, cl in enumerate(np.unique(y)):\n",
    "        plt.scatter(x=X[y == cl, 0], y=X[y == cl, 1],\n",
    "        alpha=0.8, c=cmap(idx),\n",
    "        marker=markers[idx], label=cl)"
   ]
  },
  {
   "cell_type": "code",
   "execution_count": 9,
   "metadata": {
    "collapsed": false,
    "deletable": true,
    "editable": true
   },
   "outputs": [
    {
     "data": {
      "image/png": "[encoded data removed]",
      "text/plain": [
       "<matplotlib.figure.Figure at 0x107657358>"
      ]
     },
     "metadata": {},
     "output_type": "display_data"
    }
   ],
   "source": [
    "plot_decision_regions(X, y, classifier=ptron)\n",
    "plt.xlabel('sepal length [cm]')\n",
    "plt.ylabel('petal length [cm]')\n",
    "plt.legend(loc='upper left')\n",
    "plt.show()"
   ]
  },
  {
   "cell_type": "code",
   "execution_count": 10,
   "metadata": {
    "collapsed": true,
    "deletable": true,
    "editable": true
   },
   "outputs": [],
   "source": [
    "class AdalineGD(object):\n",
    "    \"\"\"ADAptice LInear NEuron classifier with gradient descent\n",
    "    \n",
    "    Parameters\n",
    "    ------------\n",
    "    eta : float\n",
    "        Learning rate (between 0.0 and 1.0)\n",
    "    n_iter : int\n",
    "        Passes over the training dataset.\n",
    "    \n",
    "    Attributes\n",
    "    -----------\n",
    "    w_ : 1d-array\n",
    "        Weights after fitting.\n",
    "    cost_ : list\n",
    "        Total cost in every epoch.\n",
    "    \n",
    "    \"\"\"\n",
    "    def __init__(self, eta=0.01, n_iter=50):\n",
    "        self.eta = eta\n",
    "        self.n_iter = n_iter\n",
    "    \n",
    "    def fit(self, X, y):\n",
    "        \"\"\" Fit training data.\n",
    "            \n",
    "        Parameters\n",
    "        ----------\n",
    "        X : {array-like}, shape = [n_samples, n_features]\n",
    "            Training vectors, where n_samples is the number of samples and\n",
    "            n_features is the number of features.\n",
    "        y : array-like, shape = [n_samples]\n",
    "            Target values.\n",
    "            \n",
    "        Returns\n",
    "        -------\n",
    "        self : object\n",
    "        \"\"\"\n",
    "        assert(X.shape[0] == y.shape[0])\n",
    "        self.w_ = np.zeros(1 + X.shape[1])\n",
    "        self.cost_ = [] # to keep track of the cost with every iteration\n",
    "        for i in range(self.n_iter):\n",
    "            Z = self.net_input(X)\n",
    "            predictions = self.activation(Z)\n",
    "            errors = y - predictions\n",
    "            \n",
    "            # update weights\n",
    "            self.w_[0] += self.eta * (0.5) * sum(errors)\n",
    "            temp = np.dot(errors, X) # row vector\n",
    "            self.w_[1:] += self.eta * (0.5) * temp\n",
    "            \n",
    "            # find cost for this iteration\n",
    "            cost = 0.5 * np.dot(errors, errors)**2\n",
    "            self.cost_.append(cost)\n",
    "        return self\n",
    "    \n",
    "    def net_input(self, X):\n",
    "        \"\"\"Find z parameter = w^T*x\n",
    "        \n",
    "        Parameters\n",
    "        ----------\n",
    "        X : {array-like}, shape = [n_samples, n_features]\n",
    "            Training vectors, where n_samples is the number of samples and\n",
    "            n_features is the number of features.\n",
    "            OR\n",
    "            {array-like}, shape = [n_features]\n",
    "        \n",
    "        Returns\n",
    "        -------\n",
    "        z : {array-like}, shape = [n_samples]\n",
    "            net-input for each sample or just a single sample if X is one sample\n",
    "        \"\"\"\n",
    "        z = self.w_[0] + np.dot(X, self.w_[1:])\n",
    "        return z\n",
    "    \n",
    "    def activation(self, Z):\n",
    "        \"\"\"Compute the activation function\n",
    "        \n",
    "        Parameters\n",
    "        ----------\n",
    "        Z : {array-like}, shape = [n_samples]\n",
    "            net-input for each sample\n",
    "        \n",
    "        Returns\n",
    "        -------\n",
    "        phi : {array-like}, shape = [n_samples]\n",
    "        \"\"\"\n",
    "        return Z # identity activation function used here\n",
    "    \n",
    "    def predict(self, X, threshold=0.0):\n",
    "        \"\"\"\n",
    "        Returns class labels for a dataset using learned classifier\n",
    "        \"\"\"\n",
    "        Z = self.net_input(X)\n",
    "        output = self.activation(Z)\n",
    "        return np.where(output >= threshold, 1, -1)"
   ]
  },
  {
   "cell_type": "code",
   "execution_count": 11,
   "metadata": {
    "collapsed": false,
    "deletable": true,
    "editable": true
   },
   "outputs": [
    {
     "name": "stdout",
     "output_type": "stream",
     "text": [
      "[12.5, 1.2939176278124997, 0.6379932064913072, 0.46931744379087387, 0.38155084383172894, 0.32553205297008259, 0.28642177676520197, 0.25722427441402879, 0.23419312071023474, 0.21522045149288735, 0.19907719067048274, 0.18502051470787254, 0.1725830063947888, 0.16145666343252116, 0.15142796535379285]\n",
      "[ 1  1  1 -1 -1]\n"
     ]
    }
   ],
   "source": [
    "'''\n",
    "Creating random dataset and testing the synctactical accuracy of the above Adaline model\n",
    "'''\n",
    "X_test = np.array([[2,3,4,4], [1,2,3,2], [1,1,0,3], [-2,-3,-2,5], [-3,-2,-6,-5]])\n",
    "y_test = np.array([1, 1, 1, -1, -1])\n",
    "adaline_test = AdalineGD(eta=0.01, n_iter=15)\n",
    "adaline_test.fit(X_test, y_test)\n",
    "print (adaline_test.cost_)\n",
    "print (adaline_test.predict(X_test))"
   ]
  },
  {
   "cell_type": "code",
   "execution_count": 12,
   "metadata": {
    "collapsed": false,
    "deletable": true,
    "editable": true
   },
   "outputs": [
    {
     "name": "stdout",
     "output_type": "stream",
     "text": [
      "(100, 2) (100,)\n",
      "0.0\n"
     ]
    }
   ],
   "source": [
    "'''\n",
    "Test training accuracy for adaline for the given flower training dataset\n",
    "'''\n",
    "print(X.shape, y.shape) # loaded before in the notebook\n",
    "adaline = AdalineGD(eta=0.0001, n_iter=50)\n",
    "adaline.fit(X, y)\n",
    "output = adaline.predict(X)\n",
    "error_rate = sum(output != y)*100/len(output)\n",
    "print (error_rate)"
   ]
  },
  {
   "cell_type": "code",
   "execution_count": 13,
   "metadata": {
    "collapsed": false,
    "deletable": true,
    "editable": true
   },
   "outputs": [
    {
     "data": {
      "image/png": "[encoded data removed]",
      "text/plain": [
       "<matplotlib.figure.Figure at 0x107b8cf28>"
      ]
     },
     "metadata": {},
     "output_type": "display_data"
    }
   ],
   "source": [
    "fig, ax = plt.subplots(nrows=1, ncols=2, figsize=(8, 4))\n",
    "ada1 = AdalineGD(n_iter=30, eta=0.01).fit(X, y)\n",
    "ax[0].plot(range(1, len(ada1.cost_) + 1), np.log10(ada1.cost_), marker='o')\n",
    "ax[0].set_xlabel('Epochs')\n",
    "ax[0].set_ylabel('log(Sum-squared-error)')\n",
    "ax[0].set_title('Adaline - Learning rate 0.01')\n",
    "ada2 = AdalineGD(n_iter=30, eta=0.0001).fit(X, y)\n",
    "ax[1].plot(range(1, len(ada2.cost_) + 1), ada2.cost_, marker='o')\n",
    "ax[1].set_xlabel('Epochs')\n",
    "ax[1].set_ylabel('Sum-squared-error')\n",
    "ax[1].set_title('Adaline - Learning rate 0.0001')\n",
    "plt.show()"
   ]
  },
  {
   "cell_type": "code",
   "execution_count": 14,
   "metadata": {
    "collapsed": false,
    "deletable": true,
    "editable": true
   },
   "outputs": [],
   "source": [
    "\"\"\"\n",
    "Using standardisation before training a model on training data\n",
    "\"\"\"\n",
    "def standardize(X):\n",
    "    \"\"\"Standardize the given data\n",
    "    Parameters\n",
    "    ----------\n",
    "    X : {array-like} [num-samples, num-features]\n",
    "        The training data\n",
    "        \n",
    "    Returns\n",
    "    -------\n",
    "    X_std : {array_like} [num-samples, num-features]\n",
    "        Normalized training data. For every feature, we perform\n",
    "        x'_j = (x_j-mean_j)/std_j\n",
    "    \"\"\"\n",
    "    X_std = np.copy(X)\n",
    "    means = np.mean(X_std, 0)\n",
    "    stds = np.std(X_std, 0)\n",
    "    X_std = np.divide(np.subtract(X, means), stds)\n",
    "    return X_std"
   ]
  },
  {
   "cell_type": "code",
   "execution_count": 15,
   "metadata": {
    "collapsed": false,
    "deletable": true,
    "editable": true
   },
   "outputs": [
    {
     "name": "stdout",
     "output_type": "stream",
     "text": [
      "Flower dataset shape: X = (100, 2)  y = (100,)\n"
     ]
    },
    {
     "data": {
      "image/png": "[encoded data removed]",
      "text/plain": [
       "<matplotlib.figure.Figure at 0x108474f98>"
      ]
     },
     "metadata": {},
     "output_type": "display_data"
    },
    {
     "data": {
      "image/png": "[encoded data removed]",
      "text/plain": [
       "<matplotlib.figure.Figure at 0x1084a4048>"
      ]
     },
     "metadata": {},
     "output_type": "display_data"
    },
    {
     "name": "stdout",
     "output_type": "stream",
     "text": [
      "[ 50.           1.68406482   1.18164835   0.90991368   0.71387223\n",
      "   0.57065327   0.46502147   0.38635517   0.32720224   0.28229968\n",
      "   0.24790321   0.22132758   0.20063038   0.18439368   0.17157251]\n"
     ]
    }
   ],
   "source": [
    "print(\"Flower dataset shape: X =\", X.shape, \" y =\", y.shape)\n",
    "X_std = standardize(X)\n",
    "ada = AdalineGD(n_iter=15, eta=0.01)\n",
    "ada.fit(X_std, y)\n",
    "plot_decision_regions(X_std, y, classifier=ada)\n",
    "plt.xlabel('sepal length [normal]')\n",
    "plt.ylabel('petal length [normal]')\n",
    "plt.legend(loc='upper left')\n",
    "plt.show()\n",
    "\n",
    "plt.plot(range(1, len(ada.cost_) + 1), np.divide(ada.cost_, y.shape[0]), marker='o')\n",
    "plt.xlabel('number of epochs')\n",
    "plt.ylabel('sum squared errors')\n",
    "plt.title('num of epocs vs SSE')\n",
    "plt.show()\n",
    "print (np.divide(ada.cost_, y.shape[0]))"
   ]
  },
  {
   "cell_type": "code",
   "execution_count": 16,
   "metadata": {
    "collapsed": false,
    "deletable": true,
    "editable": true
   },
   "outputs": [],
   "source": [
    "from numpy.random import seed\n",
    "\n",
    "\"\"\"\n",
    "Adaline using mini-batch gradient descent\n",
    "\"\"\"\n",
    "class AdalineMBGD(object):\n",
    "    \"\"\"ADAptice LInear NEuron classifier with gradient descent\n",
    "    \n",
    "    Parameters\n",
    "    ------------\n",
    "    eta : float\n",
    "        Learning rate (between 0.0 and 1.0)\n",
    "    n_iter : int\n",
    "        Passes over the training dataset.\n",
    "    random_state : int\n",
    "        A random number to shuffle the data. None indicated no shuffle.\n",
    "        \n",
    "    Attributes\n",
    "    -----------\n",
    "    w_ : 1d-array\n",
    "        Weights after fitting.\n",
    "    avg_cost_ : list\n",
    "        Total average cost in every epoch.\n",
    "    shuffle_ : bool\n",
    "        If the data should be shuffled or not\n",
    "    w_initialized : bool\n",
    "        If w_ weights have been initialized or not\n",
    "    \"\"\"\n",
    "    def __init__(self, eta=0.01, n_iter=50, random_state=None):\n",
    "        self.eta = eta\n",
    "        self.n_iter = n_iter\n",
    "        self.w_initialized = False\n",
    "        if random_state == None:\n",
    "            self.shuffle_ = False\n",
    "        else:\n",
    "            self.shuffle_ = True\n",
    "            seed(random_state)\n",
    "    \n",
    "    def partial_fit(self, X, y):\n",
    "        \"\"\"\n",
    "        This is used to fit the model using batch online data. No looping.\n",
    "        Parameters\n",
    "        ----------\n",
    "        X : {array-like}, shape = [n_samples, n_features]\n",
    "            Training vectors, where n_samples is the number of samples and\n",
    "            n_features is the number of features.\n",
    "        y : array-like, shape = [n_samples]\n",
    "            Target values.\n",
    "            \n",
    "        Returns\n",
    "        -------\n",
    "        self : object  \n",
    "        \"\"\"\n",
    "        if self.w_initialized == False:\n",
    "            print(X.shape)\n",
    "            self.w_ = np.zeros(1 + X.shape[1])\n",
    "            self.w_initialized = True\n",
    "        cost = self._update_weights(X, y)\n",
    "        return self\n",
    "    \n",
    "    def fit(self, X, y, batch_size=1):\n",
    "        \"\"\" Fit training data.\n",
    "            \n",
    "        Parameters\n",
    "        ----------\n",
    "        X : {array-like}, shape = [n_samples, n_features]\n",
    "            Training vectors, where n_samples is the number of samples and\n",
    "            n_features is the number of features.\n",
    "        y : array-like, shape = [n_samples]\n",
    "            Target values.\n",
    "        batch_size : int\n",
    "        \n",
    "        Returns\n",
    "        -------\n",
    "        self : object\n",
    "        \"\"\"\n",
    "        assert(X.shape[0] == y.shape[0])\n",
    "        if batch_size <= 0:\n",
    "            batch_size = 1\n",
    "        elif batch_size > X.shape[0]:\n",
    "            batch_size = X.shape[0]\n",
    "        \n",
    "        if self.w_initialized == False:\n",
    "            self.w_ = np.zeros(1 + X.shape[1])\n",
    "            self.w_initialized = True\n",
    "        self.cost_ = [] # to keep track of the cost with every iteration\n",
    "        for i in range(self.n_iter):\n",
    "            if self.shuffle_:\n",
    "                X, y = self.shuffle_data(X, y)\n",
    "            j = 0\n",
    "            cost = 0\n",
    "            while j+1 <= y.shape[0]: # atleast unit sized batch should be possible\n",
    "                # create next batch\n",
    "                if j+batch_size <= y.shape[0]:\n",
    "                    X_sub = X[j:j+batch_size, :]\n",
    "                    y_sub = y[j:j+batch_size]\n",
    "                else:\n",
    "                    # this should happen only once, at the end\n",
    "                    X_sub = X[j:y.shape[0], :]\n",
    "                    y_sub = y[j:y.shape[0]]\n",
    "                    \n",
    "                cost_sub = self._update_weights(X_sub, y_sub)\n",
    "                cost += cost_sub\n",
    "                j += batch_size\n",
    "            \n",
    "            self.cost_.append(cost/y.shape[0])\n",
    "        return self\n",
    "    \n",
    "    def _update_weights(self, X, y):\n",
    "        \"\"\"\n",
    "        Use Adaline rule to update existing weights using training data\n",
    "        Returns\n",
    "        -------\n",
    "        cost : float\n",
    "            The total cost for all the training examples using existing weights\n",
    "        \"\"\"\n",
    "        Z = self.net_input(X)\n",
    "        predictions = self.activation(Z)\n",
    "        errors = y - predictions\n",
    "        \n",
    "        # update weights\n",
    "        self.w_[0] += self.eta * (0.5) * sum(errors)\n",
    "        temp = np.dot(errors, X) # row vector\n",
    "        self.w_[1:] += self.eta * (0.5) * temp\n",
    "        \n",
    "        # calculate total cost for given training set\n",
    "        cost = 0.5 * np.dot(errors, errors)**2\n",
    "        return cost\n",
    "    \n",
    "    def cost(self, X, y):\n",
    "        \"\"\"\n",
    "        Find the total average cost of all examples.\n",
    "        Parameters:\n",
    "        -----------\n",
    "        X : {array-like}, shape = [n_samples, n_features]\n",
    "        \n",
    "        Return:\n",
    "        -------\n",
    "        avg_cost : int\n",
    "            average cost\n",
    "        \"\"\"\n",
    "        Z = self.net_input(X)\n",
    "        predictions = self.activation(Z)\n",
    "        errors = y - predictions\n",
    "        cost = 0.5 * np.dot(errors, errors)**2\n",
    "        avg_cost = cost/y.shape[0]\n",
    "        return avg_cost\n",
    "    \n",
    "    def net_input(self, X):\n",
    "        \"\"\"Find z parameter = w^T*x\n",
    "        \n",
    "        Parameters\n",
    "        ----------\n",
    "        X : {array-like}, shape = [n_samples, n_features]\n",
    "            Training vectors, where n_samples is the number of samples and\n",
    "            n_features is the number of features.\n",
    "            OR\n",
    "            {array-like}, shape = [n_features]\n",
    "        \n",
    "        Returns\n",
    "        -------\n",
    "        z : {array-like}, shape = [n_samples]\n",
    "            net-input for each sample or just a single sample if X is one sample\n",
    "        \"\"\"\n",
    "        z = self.w_[0] + np.dot(X, self.w_[1:])\n",
    "        return z\n",
    "    \n",
    "    def activation(self, Z):\n",
    "        \"\"\"Compute the activation function\n",
    "        \n",
    "        Parameters\n",
    "        ----------\n",
    "        Z : {array-like}, shape = [n_samples]\n",
    "            net-input for each sample\n",
    "        \n",
    "        Returns\n",
    "        -------\n",
    "        phi : {array-like}, shape = [n_samples]\n",
    "        \"\"\"\n",
    "        return Z # identity activation function used here\n",
    "    \n",
    "    def predict(self, X, threshold=0.0):\n",
    "        \"\"\"\n",
    "        Returns class labels for a dataset using learned classifier\n",
    "        \"\"\"\n",
    "        Z = self.net_input(X)\n",
    "        output = self.activation(Z)\n",
    "        return np.where(output >= threshold, 1, -1)\n",
    "    \n",
    "    def shuffle_data(self, X, y):\n",
    "        \"\"\"Creates a shuffled copy of the data. Original data is not changed.\n",
    "        Parameters\n",
    "        ----------\n",
    "        X : {array-like}, shape = [n_samples, n_features]\n",
    "            Training vectors, where n_samples is the number of samples and\n",
    "            n_features is the number of features.\n",
    "        y : array-like, shape = [n_samples]\n",
    "            Target values.\n",
    "            \n",
    "        Returns\n",
    "        -------\n",
    "        X, y : shuffled input\n",
    "        \"\"\"\n",
    "        indices = np.random.permutation(len(y))\n",
    "        return X[indices], y[indices]"
   ]
  },
  {
   "cell_type": "code",
   "execution_count": 17,
   "metadata": {
    "collapsed": false,
    "deletable": true,
    "editable": true
   },
   "outputs": [
    {
     "name": "stdout",
     "output_type": "stream",
     "text": [
      "Flower dataset shape: X = (100, 2)  y = (100,)\n"
     ]
    },
    {
     "data": {
      "image/png": "[encoded data removed]",
      "text/plain": [
       "<matplotlib.figure.Figure at 0x108481908>"
      ]
     },
     "metadata": {},
     "output_type": "display_data"
    },
    {
     "data": {
      "image/png": "[encoded data removed]",
      "text/plain": [
       "<matplotlib.figure.Figure at 0x1084bbc50>"
      ]
     },
     "metadata": {},
     "output_type": "display_data"
    },
    {
     "name": "stdout",
     "output_type": "stream",
     "text": [
      "4.297 0.553 0.254 0.191 0.158 0.121 0.097 0.086 0.069 0.065 0.061 0.053 0.049 0.045 0.039 \n",
      "average cost of all examples (n_iter=15, eta=0.010000, batch_size=20):  0.167184835603\n"
     ]
    }
   ],
   "source": [
    "print(\"Flower dataset shape: X =\", X.shape, \" y =\", y.shape)\n",
    "X_std = standardize(X)\n",
    "n_iter = 15\n",
    "eta = 0.01\n",
    "batch_size = 20\n",
    "ada_mb = AdalineMBGD(n_iter=n_iter, eta=eta, random_state=0)\n",
    "ada_mb.fit(X_std, y, batch_size=batch_size)\n",
    "plot_decision_regions(X_std, y, classifier=ada_mb)\n",
    "plt.xlabel('sepal length [normal]')\n",
    "plt.ylabel('petal length [normal]')\n",
    "plt.legend(loc='upper left')\n",
    "plt.show()\n",
    "\n",
    "plt.plot(range(1, len(ada_mb.cost_) + 1), ada_mb.cost_, marker='o')\n",
    "plt.xlabel('number of epochs')\n",
    "plt.ylabel('sum squared errors')\n",
    "plt.title('num of epocs vs SSE')\n",
    "plt.show()\n",
    "for cost in ada_mb.cost_:\n",
    "    print(\"%.3f\" % cost, end=\" \")\n",
    "\n",
    "print('\\naverage cost of all examples (n_iter=%d, eta=%f, batch_size=%d): ' \n",
    "      % (n_iter, eta, batch_size), ada_mb.cost(X_std, y))"
   ]
  },
  {
   "cell_type": "code",
   "execution_count": 18,
   "metadata": {
    "collapsed": false,
    "deletable": true,
    "editable": true
   },
   "outputs": [
    {
     "data": {
      "text/plain": [
       "'\\nNotice that mini-batch GD converges much faster to the value than Batch GD\\n'"
      ]
     },
     "execution_count": 18,
     "metadata": {},
     "output_type": "execute_result"
    }
   ],
   "source": [
    "\"\"\"\n",
    "Notice that mini-batch GD converges much faster to the value than Batch GD\n",
    "\"\"\""
   ]
  },
  {
   "cell_type": "code",
   "execution_count": 19,
   "metadata": {
    "collapsed": false,
    "deletable": true,
    "editable": true
   },
   "outputs": [
    {
     "name": "stdout",
     "output_type": "stream",
     "text": [
      "Flower dataset shape: X = (100, 2)  y = (100,)\n",
      "(1, 2)\n",
      "cost =  4.62792607477\n"
     ]
    }
   ],
   "source": [
    "\"\"\"\n",
    "Training using online learning. Each data point is used only once.\n",
    "\"\"\"\n",
    "print(\"Flower dataset shape: X =\", X.shape, \" y =\", y.shape)\n",
    "X_std = standardize(X)\n",
    "n_iter = 5\n",
    "eta = 0.01\n",
    "ada_online = AdalineMBGD(n_iter=n_iter, eta=eta, random_state=0)\n",
    "for xi, yi in zip(X_std, y):\n",
    "    ada_online.partial_fit(xi.reshape(1,X_std.shape[1]), yi)\n",
    "print('cost = ', ada_online.cost(X_std, y))"
   ]
  },
  {
   "cell_type": "code",
   "execution_count": null,
   "metadata": {
    "collapsed": true
   },
   "outputs": [],
   "source": []
  }
 ],
 "metadata": {
  "kernelspec": {
   "display_name": "Python 3",
   "language": "python",
   "name": "python3"
  },
  "language_info": {
   "codemirror_mode": {
    "name": "ipython",
    "version": 3
   },
   "file_extension": ".py",
   "mimetype": "text/x-python",
   "name": "python",
   "nbconvert_exporter": "python",
   "pygments_lexer": "ipython3",
   "version": "3.6.1"
  }
 },
 "nbformat": 4,
 "nbformat_minor": 2
}
